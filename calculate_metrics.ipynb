{
 "cells": [
  {
   "cell_type": "code",
   "execution_count": 58,
   "id": "5bef20d3",
   "metadata": {},
   "outputs": [],
   "source": [
    "import os\n",
    "import pandas as pd\n",
    "import matplotlib.pyplot as plt\n",
    "import numpy as np\n",
    "import mapcalc\n",
    "from sklearn.metrics import confusion_matrix, classification_report, recall_score, precision_score, ConfusionMatrixDisplay"
   ]
  },
  {
   "cell_type": "code",
   "execution_count": 59,
   "id": "40536285",
   "metadata": {},
   "outputs": [],
   "source": [
    "cardiomegaly_gt = pd.read_csv(\"cardiomegaly_merged_test.csv\")"
   ]
  },
  {
   "cell_type": "code",
   "execution_count": 60,
   "id": "d240bc8c",
   "metadata": {},
   "outputs": [],
   "source": [
    "calculated = pd.read_csv(\"CLAHE_padding_test.csv\")"
   ]
  },
  {
   "cell_type": "code",
   "execution_count": 61,
   "id": "8734fda6",
   "metadata": {},
   "outputs": [
    {
     "name": "stdout",
     "output_type": "stream",
     "text": [
      "[]\n",
      "2691\n"
     ]
    }
   ],
   "source": [
    "#checking to see that calculated \n",
    "\n",
    "gt_img = cardiomegaly_gt[\"image_id\"].tolist()\n",
    "pred_img = calculated[\"file_name\"].tolist()\n",
    "\n",
    "print([x for x in gt_img if x not in pred_img]) #gt_img is 309 rows, checking to see they all exist in predictions (runs over all images)\n",
    "print(len([x for x in pred_img if x not in gt_img]))"
   ]
  },
  {
   "cell_type": "code",
   "execution_count": 62,
   "id": "9cdc1cff",
   "metadata": {},
   "outputs": [
    {
     "name": "stderr",
     "output_type": "stream",
     "text": [
      "/var/folders/d0/k5pp1mc555bcl1qs6mvttwt40000gn/T/ipykernel_99292/2310306495.py:8: FutureWarning: The behavior of DataFrame concatenation with empty or all-NA entries is deprecated. In a future version, this will no longer exclude empty or all-NA columns when determining the result dtypes. To retain the old behavior, exclude the relevant entries before the concat operation.\n",
      "  cardiomegaly_gt_all_imgs = pd.concat([cardiomegaly_gt, df_to_concat], axis=0)\n"
     ]
    }
   ],
   "source": [
    "missing_ids = [x for x in pred_img if x not in gt_img]\n",
    "list_to_append = []\n",
    "for missing_id in missing_ids:\n",
    "    list_to_append.append([missing_id, \"No Finding\", None, None, None, None])\n",
    "\n",
    "df_to_concat = pd.DataFrame(list_to_append, columns=cardiomegaly_gt.columns)\n",
    "\n",
    "cardiomegaly_gt_all_imgs = pd.concat([cardiomegaly_gt, df_to_concat], axis=0)"
   ]
  },
  {
   "cell_type": "code",
   "execution_count": 63,
   "id": "1152434d",
   "metadata": {},
   "outputs": [],
   "source": [
    "calculated = calculated.sort_values(by=\"file_name\", axis=0)\n",
    "cardiomegaly_gt_all_imgs = cardiomegaly_gt_all_imgs.sort_values(by=\"image_id\", axis = 0)"
   ]
  },
  {
   "cell_type": "code",
   "execution_count": 64,
   "id": "ba5f94cc",
   "metadata": {},
   "outputs": [
    {
     "data": {
      "text/plain": [
       "True"
      ]
     },
     "execution_count": 64,
     "metadata": {},
     "output_type": "execute_result"
    }
   ],
   "source": [
    "cardiomegaly_gt_all_imgs[\"image_id\"].to_list() == calculated[\"file_name\"].to_list()"
   ]
  },
  {
   "cell_type": "code",
   "execution_count": 65,
   "id": "5603b6c2",
   "metadata": {},
   "outputs": [],
   "source": [
    "calculated[\"class_name\"] = np.where(calculated[\"cardiomegaly\"] == True, \"Cardiomegaly\", \"No Finding\")"
   ]
  },
  {
   "cell_type": "code",
   "execution_count": 66,
   "id": "59d9a6be",
   "metadata": {},
   "outputs": [
    {
     "name": "stdout",
     "output_type": "stream",
     "text": [
      "              precision    recall  f1-score   support\n",
      "\n",
      "Cardiomegaly       0.38      0.77      0.51       309\n",
      "  No Finding       0.97      0.86      0.91      2691\n",
      "\n",
      "    accuracy                           0.85      3000\n",
      "   macro avg       0.68      0.81      0.71      3000\n",
      "weighted avg       0.91      0.85      0.87      3000\n",
      "\n"
     ]
    }
   ],
   "source": [
    "print(classification_report(y_true=cardiomegaly_gt_all_imgs[\"class_name\"], y_pred=calculated[\"class_name\"]))"
   ]
  },
  {
   "cell_type": "code",
   "execution_count": 67,
   "id": "074302bc",
   "metadata": {},
   "outputs": [
    {
     "data": {
      "image/png": "[encoded data removed]",
      "text/plain": [
       "<Figure size 640x480 with 2 Axes>"
      ]
     },
     "metadata": {},
     "output_type": "display_data"
    }
   ],
   "source": [
    "disp = ConfusionMatrixDisplay(confusion_matrix(y_true=cardiomegaly_gt_all_imgs[\"class_name\"], y_pred=calculated[\"class_name\"], labels = [\"Cardiomegaly\", \"No Finding\"]), display_labels=[\"Cardiomegaly\", \"No Finding\"])\n",
    "disp.plot()\n",
    "plt.show()"
   ]
  },
  {
   "cell_type": "markdown",
   "id": "bb000871",
   "metadata": {},
   "source": [
    "Trying to optimise threshold"
   ]
  }
 ],
 "metadata": {
  "kernelspec": {
   "display_name": "torchxrayvision",
   "language": "python",
   "name": "python3"
  },
  "language_info": {
   "codemirror_mode": {
    "name": "ipython",
    "version": 3
   },
   "file_extension": ".py",
   "mimetype": "text/x-python",
   "name": "python",
   "nbconvert_exporter": "python",
   "pygments_lexer": "ipython3",
   "version": "3.11.12"
  }
 },
 "nbformat": 4,
 "nbformat_minor": 5
}
